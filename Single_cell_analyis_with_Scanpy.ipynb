{
 "cells": [
  {
   "cell_type": "markdown",
   "id": "2340adee",
   "metadata": {},
   "source": [
    "# Single-cell RNASeq data analysis in python - 5 time points"
   ]
  },
  {
   "cell_type": "markdown",
   "id": "35a399e1",
   "metadata": {},
   "source": [
    "## First, the needed libraries are loaded"
   ]
  },
  {
   "cell_type": "code",
   "execution_count": null,
   "id": "4bbfdbc5",
   "metadata": {},
   "outputs": [],
   "source": [
    "import numpy as nu"
   ]
  },
  {
   "cell_type": "code",
   "execution_count": null,
   "id": "5261a650",
   "metadata": {},
   "outputs": [],
   "source": [
    "# import scanpy as sc\n",
    "import pandas as pd\n",
    "from scipy.sparse import csr_matrix\n",
    "\n",
    "from matplotlib import pyplot as plt\n",
    "from matplotlib import rcParams\n",
    "%matplotlib inline"
   ]
  },
  {
   "cell_type": "code",
   "execution_count": null,
   "id": "f322cdb9",
   "metadata": {},
   "outputs": [],
   "source": [
    "import scanpy as sc"
   ]
  },
  {
   "cell_type": "code",
   "execution_count": null,
   "id": "7710bee5",
   "metadata": {},
   "outputs": [],
   "source": [
    "import leidenalg"
   ]
  },
  {
   "cell_type": "code",
   "execution_count": null,
   "id": "b7b35619",
   "metadata": {},
   "outputs": [],
   "source": [
    "def clustering_score(original_adata, score_value = 'bic', clustering_algorithm='leiden', dim_reduction = 'pca', min_res=0.1, max_res=2.0, step=0.1, plot=True):\n",
    "    #calinski_harabasz\n",
    "    import numpy as nu\n",
    "    import scanpy as sc\n",
    "    import numpy as nu\n",
    "    from sklearn.metrics import calinski_harabasz_score\n",
    "\n",
    "    sc.settings.verbosity = 0\n",
    "\n",
    "    if dim_reduction == 'pca':\n",
    "        dim_reduction = 'X_pca'\n",
    "    elif dim_reduction == 'umap':\n",
    "        dim_reduction = 'X_umap'\n",
    "    else:\n",
    "        print('please choose pca or umap as dimensionality reduction')\n",
    "        exit\n",
    "\n",
    "    res = list(nu.arange(min_res,max_res,step))\n",
    "    score = []\n",
    "    n_clus = []\n",
    "\n",
    "    for r in res:\n",
    "        index = res.index(r)\n",
    "        adata = original_adata.copy()\n",
    "        string_r = str(r)\n",
    "        clustering_name = '%s_res%s' %(clustering_algorithm,string_r)\n",
    "        print('Clustering by using the resolution %.2f, step %i of %i' %(r,index+1,len(res)))\n",
    "        if clustering_algorithm == 'leiden':\n",
    "            sc.tl.leiden(adata, key_added=\"%s_res%s\" %(clustering_algorithm,string_r), resolution=r)\n",
    "        elif clustering_algorithm == 'louvain':\n",
    "            sc.tl.louvain(adata, key_added=\"%s_res%s\" %(clustering_algorithm,string_r), resolution=r)\n",
    "        else:\n",
    "            print('please choose louvain or leiden as clustering_algorithm')\n",
    "            exit\n",
    "        if score_value == 'bic':\n",
    "            score_name = 'BIC score'\n",
    "            n_points = len(adata.obs[clustering_name])\n",
    "            n_clusters = len(set(adata.obs[clustering_name]))\n",
    "            n_dimensions = adata.obsm[dim_reduction].shape[1]\n",
    "\n",
    "            n_parameters = (n_clusters - 1) + (n_dimensions * n_clusters) + 1\n",
    "\n",
    "            loglikelihood=0\n",
    "            for cluster_id in set(adata.obs[clustering_name]):\n",
    "                cluster_mask = (adata.obs[clustering_name] == cluster_id)\n",
    "                X_cluster = adata.obsm[dim_reduction][cluster_mask]\n",
    "\n",
    "                n_points_cluster = len(X_cluster)\n",
    "                centroid = nu.mean(X_cluster, axis=0)\n",
    "                variance = nu.sum((X_cluster - centroid) ** 2) / (len(X_cluster) - 1)\n",
    "                loglikelihood += \\\n",
    "                  n_points_cluster * nu.log(n_points_cluster) \\\n",
    "                  - n_points_cluster * nu.log(n_points) \\\n",
    "                  - n_points_cluster * n_dimensions / 2 * nu.log(2 * nu.pi * variance) \\\n",
    "                  - (n_points_cluster - 1) / 2\n",
    "\n",
    "            bic = loglikelihood - (n_parameters / 2) * nu.log(n_points)\n",
    "            bic = -2*bic\n",
    "            score.append(bic)\n",
    "            n_clus.append(n_clusters)\n",
    "\n",
    "            del adata.obs[clustering_name]\n",
    "        \n",
    "        elif score_value == 'calinski':\n",
    "            score_name = 'Calinski-Harabasz score'\n",
    "            n_clusters = len(set(adata.obs[clustering_name]))\n",
    "            n_clus.append(n_clusters)\n",
    "            score.append(-1*calinski_harabasz_score(adata.obsm[dim_reduction], adata.obs[clustering_name]))\n",
    "            \n",
    "\n",
    "    df = pd.DataFrame()\n",
    "    df[score_name] = score\n",
    "    df['resolution'] = res\n",
    "    df['n_clus'] = n_clus\n",
    "\n",
    "    if plot==True:\n",
    "        df.plot(x='resolution',y=score_name)\n",
    "    print('\\n')\n",
    "\n",
    "    return df, res[nu.argmin(score)]"
   ]
  },
  {
   "cell_type": "markdown",
   "id": "371778de",
   "metadata": {},
   "source": [
    "### The following parameters set the level of verbosity of the scanpy library and the resolution of the figures that will be produced. "
   ]
  },
  {
   "cell_type": "code",
   "execution_count": null,
   "id": "205a4503",
   "metadata": {
    "scrolled": true
   },
   "outputs": [],
   "source": [
    "sc.settings.verbosity = 3             # verbosity: errors (0), warnings (1), info (2), hints (3)\n",
    "sc.logging.print_header()\n",
    "sc.settings.set_figure_params(dpi=200, facecolor='white')"
   ]
  },
  {
   "cell_type": "markdown",
   "id": "5853812b",
   "metadata": {},
   "source": [
    "## Load the datasets"
   ]
  },
  {
   "cell_type": "markdown",
   "id": "59747059",
   "metadata": {},
   "source": [
    "Below, insert the path of the 3 datasets"
   ]
  },
  {
   "cell_type": "code",
   "execution_count": null,
   "id": "b6196bca",
   "metadata": {},
   "outputs": [],
   "source": [
    "adata_9396h_path = \"C:/Users/cguiller/Documents/SERGIO_analysis/data_singlecell/filtered_feature_bc_matrix9396\"\n",
    "adata_108hAEL_path = \"C:/Users/cguiller/Documents/SERGIO_analysis/data_singlecell/filtered_feature_bc_matrix_108AEL\"\n",
    "adata_WP_path = \"C:/Users/cguiller/Documents/SERGIO_analysis/data_singlecell/filtered_feature_bc_matrix_WP\"\n",
    "adata_5h_path = \"C:/Users/cguiller/Documents/SERGIO_analysis/data_singlecell/filtered_feature_bc_matrix_5hAPF\"\n",
    "adata_12h_path = \"C:/Users/cguiller/Documents/SERGIO_analysis/data_singlecell/filtered_feature_bc_matrix_12hAPF\""
   ]
  },
  {
   "cell_type": "markdown",
   "id": "5ac14e8b",
   "metadata": {},
   "source": [
    "The function sc.read_10x_mtx() from scanpy is equivalent to Read10X() function in Seurat, but it produces an AnnData object instead than a Seurat object. In fact, scanpy deals with AnnData objects"
   ]
  },
  {
   "cell_type": "code",
   "execution_count": null,
   "id": "7f55bc10",
   "metadata": {},
   "outputs": [],
   "source": [
    "adata_9396h = sc.read_10x_mtx(adata_9396h_path, var_names = 'gene_symbols', cache = True)\n",
    "adata_108hAEL = sc.read_10x_mtx(adata_108hAEL_path, var_names = 'gene_symbols', cache = True)\n",
    "adata_WP = sc.read_10x_mtx(adata_WP_path, var_names = 'gene_symbols', cache = True)\n",
    "adata_5h = sc.read_10x_mtx(adata_5h_path, var_names = 'gene_symbols', cache = True)\n",
    "adata_12h = sc.read_10x_mtx(adata_12h_path, var_names = 'gene_symbols', cache = True)"
   ]
  },
  {
   "cell_type": "markdown",
   "id": "feec7bda",
   "metadata": {},
   "source": [
    "The function adata.var_names_make_unique() nakes the gene names unique by appending a number string to each duplicate index element: ‘1’, ‘2’, etc."
   ]
  },
  {
   "cell_type": "code",
   "execution_count": null,
   "id": "4a1e6e9d",
   "metadata": {},
   "outputs": [],
   "source": [
    "adata_9396h.var_names_make_unique()\n",
    "adata_108hAEL.var_names_make_unique()\n",
    "adata_WP.var_names_make_unique()\n",
    "adata_5h.var_names_make_unique()\n",
    "adata_12h.var_names_make_unique()"
   ]
  },
  {
   "cell_type": "markdown",
   "id": "ac1649f2",
   "metadata": {},
   "source": [
    "## Preprocess the data and filter out genes and cells"
   ]
  },
  {
   "cell_type": "markdown",
   "id": "50711930",
   "metadata": {},
   "source": [
    "N.B. What is done in the cell below is a purely technical thing, with no biological value.\n",
    "Basically, we noticed that there is a gene called 'nan'. Python syntaxis recognize it as a NaN (not a number), giving problem for the downstream analysis. Let's remove it from the annDatas (without this step, there would be problems for the next step)"
   ]
  },
  {
   "cell_type": "code",
   "execution_count": null,
   "id": "6d5a666a",
   "metadata": {},
   "outputs": [],
   "source": [
    "indices_to_keep_9396h = nu.in1d(adata_9396h.var_names.values.astype(str), 'nan')\n",
    "adata_9396h = adata_9396h[:,~indices_to_keep_9396h]\n",
    "\n",
    "indices_to_keep_108hAEL = nu.in1d(adata_108hAEL.var_names.values.astype(str), 'nan')\n",
    "adata_108hAEL = adata_108hAEL[:,~indices_to_keep_108hAEL]\n",
    "\n",
    "indices_to_keep_WP = nu.in1d(adata_WP.var_names.values.astype(str), 'nan')\n",
    "adata_WP = adata_WP[:,~indices_to_keep_WP]\n",
    "\n",
    "indices_to_keep_5h = nu.in1d(adata_5h.var_names.values.astype(str), 'nan')\n",
    "adata_5h = adata_5h[:,~indices_to_keep_5h]\n",
    "\n",
    "indices_to_keep_12h = nu.in1d(adata_12h.var_names.values.astype(str), 'nan')\n",
    "adata_12h = adata_12h[:,~indices_to_keep_12h]"
   ]
  },
  {
   "cell_type": "markdown",
   "id": "84d6ddfb",
   "metadata": {},
   "source": [
    "Now, we add some metadata to the AnnData objects, in order to create one merged object later and keep memory of the original datasets."
   ]
  },
  {
   "cell_type": "code",
   "execution_count": null,
   "id": "b12dd986",
   "metadata": {},
   "outputs": [],
   "source": [
    "adata_9396h.obs['sample'] = '9396h'\n",
    "adata_108hAEL.obs['sample'] = '108hAEL'\n",
    "adata_WP.obs['sample'] = 'WP'\n",
    "adata_5h.obs['sample'] = '5h'\n",
    "adata_12h.obs['sample'] = '12h'"
   ]
  },
  {
   "cell_type": "markdown",
   "id": "c97d035b",
   "metadata": {},
   "source": [
    "### Concatenate the 3 samples and delete individual datasets to save space\n",
    "The 3 datasets are simply concatenated by using the function adata.concatetante(), that accepts as arguments the names of the AnnData objects containing the data. After concatenating all the datasets and one single AnnData object is created (adata), the single datasets are deleted, in order so save memory\n"
   ]
  },
  {
   "cell_type": "code",
   "execution_count": null,
   "id": "c37058fa",
   "metadata": {},
   "outputs": [],
   "source": [
    "adata = adata_9396h.concatenate(adata_108hAEL, adata_WP, adata_5h, adata_12h)\n",
    "del(adata_9396h, adata_108hAEL, adata_WP, adata_5h, adata_12h)"
   ]
  },
  {
   "cell_type": "code",
   "execution_count": null,
   "id": "177a171b",
   "metadata": {},
   "outputs": [],
   "source": [
    "adata"
   ]
  },
  {
   "cell_type": "markdown",
   "id": "e1949e27",
   "metadata": {},
   "source": [
    "### Calculate some metrics for the merged dataset, for QC\n",
    "Ribosomal genes and micochondrial genes are detected, and their percentage in each cell is generated and saved"
   ]
  },
  {
   "cell_type": "code",
   "execution_count": null,
   "id": "17be5254",
   "metadata": {},
   "outputs": [],
   "source": [
    "adata.var['ribo'] = adata.var_names.str.startswith((\"RpS\",\"RpL\"))\n",
    "adata.var['mt'] = adata.var_names.str.startswith((\"Mt\"))\n",
    "\n",
    "sc.pp.calculate_qc_metrics(adata, qc_vars=['ribo', 'mt'], percent_top=None, log1p=False, inplace=True)"
   ]
  },
  {
   "cell_type": "markdown",
   "id": "99ef8228",
   "metadata": {},
   "source": [
    "Check the most expressed genes of the dataset"
   ]
  },
  {
   "cell_type": "code",
   "execution_count": null,
   "id": "20773bb8",
   "metadata": {
    "scrolled": true
   },
   "outputs": [],
   "source": [
    "sc.settings.set_figure_params(dpi=100, facecolor='white')\n",
    "sc.pl.highest_expr_genes(adata, n_top=20, )"
   ]
  },
  {
   "cell_type": "markdown",
   "id": "77b6df32",
   "metadata": {},
   "source": [
    "### Filtering cells based on expressed mitochondrial genes and then for total number of counts"
   ]
  },
  {
   "cell_type": "markdown",
   "id": "3299a53c",
   "metadata": {},
   "source": [
    "Let's visualize the mitochondrial genes in each sample before filtering the cells"
   ]
  },
  {
   "cell_type": "code",
   "execution_count": null,
   "id": "6a3a3e6d",
   "metadata": {
    "scrolled": true
   },
   "outputs": [],
   "source": [
    "sc.settings.set_figure_params(dpi = 100, facecolor='white')\n",
    "sc.pl.violin(adata, ['pct_counts_mt'], jitter=0.4, groupby = 'sample', rotation= 45)"
   ]
  },
  {
   "cell_type": "markdown",
   "id": "5389dcb1",
   "metadata": {},
   "source": [
    "Not really a big amount of mitochondrial genes, we could avoid any filtering. Just to keep track of standard procedures, below there is a line of code to filter the cells expressing more than 20% of mitochondrial genes"
   ]
  },
  {
   "cell_type": "code",
   "execution_count": null,
   "id": "16f2650a",
   "metadata": {
    "scrolled": true
   },
   "outputs": [],
   "source": [
    "adata = adata[adata.obs['pct_counts_mt'] < 20, :]\n",
    "\n",
    "print(\"Remaining cells %d\"%adata.n_obs)"
   ]
  },
  {
   "cell_type": "markdown",
   "id": "c6d1299b",
   "metadata": {},
   "source": [
    "Let's visualize the number of genes and the total counts for each sample, in order to decide what to filter"
   ]
  },
  {
   "cell_type": "code",
   "execution_count": null,
   "id": "83d5afc5",
   "metadata": {
    "scrolled": false
   },
   "outputs": [],
   "source": [
    "sc.settings.set_figure_params(dpi = 200, facecolor='white')\n",
    "sc.pl.violin(adata, ['n_genes_by_counts', 'total_counts'], jitter=0.4, groupby = 'sample', rotation= 45)"
   ]
  },
  {
   "cell_type": "markdown",
   "id": "f32a6aee",
   "metadata": {},
   "source": [
    "According to what we saw above, it would be reasonable to keep cells expressing more than 600 and less than 5000 genes, and a total number of counts lower than 150000. This can be done by using the following lines of code:"
   ]
  },
  {
   "cell_type": "code",
   "execution_count": null,
   "id": "2e41ddfb",
   "metadata": {},
   "outputs": [],
   "source": [
    "# filter per nCounts  and nFeatures\n",
    "adata = adata[adata.obs['n_genes_by_counts'] > 600, :]\n",
    "adata = adata[adata.obs['n_genes_by_counts'] < 5000, :]\n",
    "adata = adata[adata.obs['total_counts'] < 150000, :]"
   ]
  },
  {
   "cell_type": "markdown",
   "id": "ed47abd4",
   "metadata": {},
   "source": [
    "Let's now visualize number of genes and total counts per sample, after the filtering:"
   ]
  },
  {
   "cell_type": "code",
   "execution_count": null,
   "id": "7393ffeb",
   "metadata": {
    "scrolled": false
   },
   "outputs": [],
   "source": [
    "sc.settings.set_figure_params(dpi = 200, facecolor='white')\n",
    "sc.pl.violin(adata, ['n_genes_by_counts', 'total_counts'], jitter=0.4, groupby = 'sample', rotation= 45)"
   ]
  },
  {
   "cell_type": "markdown",
   "id": "c5a01a33",
   "metadata": {},
   "source": [
    "N.B. A very standard filter on cells, is to exclude cells expressing less than 200 genes. This can be done in as follow. In our case, we take this line of code to keep track of standard data analysis procedure, but it will be not relevant and it won't filter any additional cell."
   ]
  },
  {
   "cell_type": "code",
   "execution_count": null,
   "id": "1a53ab74",
   "metadata": {},
   "outputs": [],
   "source": [
    "sc.pp.filter_cells(adata, min_genes=200)"
   ]
  },
  {
   "cell_type": "markdown",
   "id": "2234856c",
   "metadata": {},
   "source": [
    "### Filter on gene that are expressed in less than 3 cells:"
   ]
  },
  {
   "cell_type": "code",
   "execution_count": null,
   "id": "55ea477f",
   "metadata": {
    "scrolled": true
   },
   "outputs": [],
   "source": [
    "sc.pp.filter_genes(adata, min_cells=3)\n",
    "\n",
    "print(adata.n_obs, adata.n_vars)"
   ]
  },
  {
   "cell_type": "code",
   "execution_count": null,
   "id": "dccbfd8c",
   "metadata": {},
   "outputs": [],
   "source": [
    "adata2 = adata"
   ]
  },
  {
   "cell_type": "code",
   "execution_count": null,
   "id": "47fc8b28",
   "metadata": {
    "scrolled": true
   },
   "outputs": [],
   "source": [
    "adata2"
   ]
  },
  {
   "cell_type": "markdown",
   "id": "87114257",
   "metadata": {},
   "source": [
    "### Custom filtering\n",
    "In this particular analysis, we are interested in cells that do express at least one among the genes GFP, Mef2 and twi regarding the timesteps WP and 5h, and  we are interested in cells that do express at least one among the genes GFP and twi regarding the timesteps 9396."
   ]
  },
  {
   "cell_type": "code",
   "execution_count": null,
   "id": "01f898ea",
   "metadata": {},
   "outputs": [],
   "source": [
    "d9396_indices = adata.obs.loc[adata.obs['sample'] == '9396h'].index\n",
    "adata_9396h = adata[d9396_indices]\n",
    "GFP_indices = adata_9396h[(adata_9396h[: , 'GFP'].X > 0) ].obs.index\n",
    "twi_indices = adata_9396h[(adata_9396h[: , 'twi'].X > 0) ].obs.index\n",
    "indices_9396 = [*set([i for i in GFP_indices] + [i for i in twi_indices])]"
   ]
  },
  {
   "cell_type": "code",
   "execution_count": null,
   "id": "a3343f48",
   "metadata": {},
   "outputs": [],
   "source": [
    "d108hAEL_indices = adata.obs.loc[adata.obs['sample'] == '108hAEL'].index\n",
    "adata_108hAEL = adata[d108hAEL_indices]\n",
    "GFP_indices = adata_108hAEL[(adata_108hAEL[: , 'GFP'].X > 0) ].obs.index\n",
    "twi_indices = adata_108hAEL[(adata_108hAEL[: , 'twi'].X > 0) ].obs.index\n",
    "indices_108hAEL = [*set([i for i in GFP_indices] + [i for i in twi_indices])]"
   ]
  },
  {
   "cell_type": "code",
   "execution_count": null,
   "id": "f13d3c6b",
   "metadata": {},
   "outputs": [],
   "source": [
    "dWP_indices = adata.obs.loc[adata.obs['sample'] == 'WP'].index\n",
    "adata_WP = adata[dWP_indices]\n",
    "GFP_indices = adata_WP[(adata_WP[: , 'GFP'].X > 0) ].obs.index\n",
    "twi_indices = adata_WP[(adata_WP[: , 'twi'].X > 0) ].obs.index\n",
    "Mef2_indices = adata_WP[(adata_WP[: , 'Mef2'].X > 0) ].obs.index\n",
    "indices_WP = [*set([i for i in GFP_indices] + [i for i in twi_indices] + [i for i in Mef2_indices])]"
   ]
  },
  {
   "cell_type": "code",
   "execution_count": null,
   "id": "c5b51753",
   "metadata": {},
   "outputs": [],
   "source": [
    "d5h_indices = adata.obs.loc[adata.obs['sample'] == '5h'].index\n",
    "adata_5h = adata[d5h_indices]\n",
    "GFP_indices = adata_5h[(adata_5h[: , 'GFP'].X > 0) ].obs.index\n",
    "twi_indices = adata_5h[(adata_5h[: , 'twi'].X > 0) ].obs.index\n",
    "Mef2_indices = adata_5h[(adata_5h[: , 'Mef2'].X > 0) ].obs.index\n",
    "indices_5h = [*set([i for i in GFP_indices] + [i for i in twi_indices] + [i for i in Mef2_indices])]"
   ]
  },
  {
   "cell_type": "code",
   "execution_count": null,
   "id": "ac423df2",
   "metadata": {},
   "outputs": [],
   "source": [
    "d12h_indices = adata.obs.loc[adata.obs['sample'] == '12h'].index\n",
    "adata_12h = adata[d12h_indices]\n",
    "GFP_indices = adata_12h[(adata_12h[: , 'GFP'].X > 0) ].obs.index\n",
    "twi_indices = adata_12h[(adata_12h[: , 'twi'].X > 0) ].obs.index\n",
    "Mef2_indices = adata_12h[(adata_12h[: , 'Mef2'].X > 0) ].obs.index\n",
    "indices_12h = [*set([i for i in GFP_indices] + [i for i in twi_indices] + [i for i in Mef2_indices])]"
   ]
  },
  {
   "cell_type": "code",
   "execution_count": null,
   "id": "d3e3db67",
   "metadata": {},
   "outputs": [],
   "source": [
    "kept_indices = [*set([i for i in indices_9396] + [i for i in indices_108hAEL] + [i for i in indices_WP] + [i for i in indices_5h] + [i for i in indices_12h])]"
   ]
  },
  {
   "cell_type": "code",
   "execution_count": null,
   "id": "dd83844d",
   "metadata": {},
   "outputs": [],
   "source": [
    "adata = adata[kept_indices]"
   ]
  },
  {
   "cell_type": "markdown",
   "id": "adea79ca",
   "metadata": {},
   "source": [
    "After the filterings, let's visualize some metrics on the entire dataset:"
   ]
  },
  {
   "cell_type": "code",
   "execution_count": null,
   "id": "d4bcfba3",
   "metadata": {
    "scrolled": true
   },
   "outputs": [],
   "source": [
    "sc.settings.set_figure_params(dpi = 300, facecolor='white')\n",
    "sc.pl.violin(adata, ['n_genes_by_counts', 'total_counts', 'pct_counts_mt'],\n",
    "             jitter=0.4, multi_panel=True)"
   ]
  },
  {
   "cell_type": "code",
   "execution_count": null,
   "id": "773d5651",
   "metadata": {},
   "outputs": [],
   "source": [
    "sc.settings.set_figure_params(dpi = 100, facecolor='white')\n",
    "sc.pl.scatter(adata, x='total_counts', y='n_genes_by_counts')"
   ]
  },
  {
   "cell_type": "markdown",
   "id": "9a41441b",
   "metadata": {},
   "source": [
    "## Data normalization and scaling\n",
    "Once the data have been preprocessed, and cells and genes have been filtered out, we can proceed with normalization and scaling"
   ]
  },
  {
   "cell_type": "code",
   "execution_count": null,
   "id": "a529d90f",
   "metadata": {},
   "outputs": [],
   "source": [
    "sc.pp.normalize_total(adata, target_sum=1e4)\n",
    "sc.pp.log1p(adata)"
   ]
  },
  {
   "cell_type": "markdown",
   "id": "57b2f3cf",
   "metadata": {},
   "source": [
    "### Identify high variable genes"
   ]
  },
  {
   "cell_type": "code",
   "execution_count": null,
   "id": "1fec5c8a",
   "metadata": {},
   "outputs": [],
   "source": [
    "sc.pp.highly_variable_genes(adata, min_disp=0.5)"
   ]
  },
  {
   "cell_type": "code",
   "execution_count": null,
   "id": "6bcdd32a",
   "metadata": {
    "scrolled": false
   },
   "outputs": [],
   "source": [
    "sc.pl.highly_variable_genes(adata)\n"
   ]
  },
  {
   "cell_type": "markdown",
   "id": "145b8554",
   "metadata": {},
   "source": [
    "Before scaling the data, let's save somewhere the unscaled data, for eventual future use"
   ]
  },
  {
   "cell_type": "code",
   "execution_count": null,
   "id": "02b09f82",
   "metadata": {
    "scrolled": true
   },
   "outputs": [],
   "source": [
    "adata.raw = adata"
   ]
  },
  {
   "cell_type": "markdown",
   "id": "ddf4d356",
   "metadata": {},
   "source": [
    "Regress out effects of total counts per cell and the percentage of mitochondrial genes expressed. Scale the data to unit variance."
   ]
  },
  {
   "cell_type": "code",
   "execution_count": null,
   "id": "6fa4c8f8",
   "metadata": {},
   "outputs": [],
   "source": [
    "import numpy.core.multiarray\n",
    "\n",
    "sc.pp.regress_out(adata, ['total_counts', 'pct_counts_mt'])"
   ]
  },
  {
   "cell_type": "markdown",
   "id": "453f99ae",
   "metadata": {},
   "source": [
    "Scale the data"
   ]
  },
  {
   "cell_type": "code",
   "execution_count": null,
   "id": "102dfbc1",
   "metadata": {},
   "outputs": [],
   "source": [
    "sc.pp.scale(adata, max_value=10)"
   ]
  },
  {
   "cell_type": "markdown",
   "id": "8a3d572d",
   "metadata": {},
   "source": [
    "## Principal Component Analysis"
   ]
  },
  {
   "cell_type": "code",
   "execution_count": null,
   "id": "de9c4238",
   "metadata": {},
   "outputs": [],
   "source": [
    "sc.tl.pca(adata, svd_solver='arpack')\n",
    "sc.settings.set_figure_params(dpi = 100, facecolor='white')\n",
    "sc.pl.pca(adata, color='sample')"
   ]
  },
  {
   "cell_type": "markdown",
   "id": "5fde5d76",
   "metadata": {},
   "source": [
    "## Computing Neighborhood Graph"
   ]
  },
  {
   "cell_type": "code",
   "execution_count": null,
   "id": "9e16cfc3",
   "metadata": {},
   "outputs": [],
   "source": [
    "sc.pp.neighbors(adata, n_neighbors=10, n_pcs=40)"
   ]
  },
  {
   "cell_type": "markdown",
   "id": "55059cbc",
   "metadata": {},
   "source": [
    "## Calculating UMAP"
   ]
  },
  {
   "cell_type": "code",
   "execution_count": null,
   "id": "d9a45047",
   "metadata": {},
   "outputs": [],
   "source": [
    "adata = sc.read_h5ad(\"C:/Users/cguiller/Documents/SERGIO_analysis/results/with108hAEL/adata_before_removing_batch_effect_with_last_stage.h5ad\")"
   ]
  },
  {
   "cell_type": "code",
   "execution_count": null,
   "id": "5930fadc",
   "metadata": {},
   "outputs": [],
   "source": [
    "adata"
   ]
  },
  {
   "cell_type": "code",
   "execution_count": null,
   "id": "dbc54c8a",
   "metadata": {
    "scrolled": true
   },
   "outputs": [],
   "source": [
    "sc.tl.umap(adata)\n",
    "\n",
    "sc.settings.set_figure_params(dpi = 200, facecolor='white')\n",
    "sc.pl.umap(adata, color='sample', title = \"Pre batch correction\")"
   ]
  },
  {
   "cell_type": "code",
   "execution_count": null,
   "id": "cabd64c3",
   "metadata": {},
   "outputs": [],
   "source": [
    "results_file = \"C:/Users/cguiller/Documents/SERGIO_analysis/results/with108hAEL/adata_before_removing_batch_effect_with_last_stage.h5ad\"\n",
    "adata.write(results_file)"
   ]
  },
  {
   "cell_type": "markdown",
   "id": "fd033ba2",
   "metadata": {},
   "source": [
    "## Integrate datasets"
   ]
  },
  {
   "cell_type": "markdown",
   "id": "2d923d27",
   "metadata": {},
   "source": [
    "The reference for the following part is here:\n",
    "https://nbisweden.github.io/workshop-scRNAseq/labs/compiled/scanpy/scanpy_03_integration.html.\n",
    "We will use BBKNN method to integrate the data\n",
    "\n",
    "As the stored AnnData object contains scaled data based on variable genes, we need to make a new object with the logtransformed normalized counts. The new variable gene selection should not be performed on the scaled data matrix."
   ]
  },
  {
   "cell_type": "code",
   "execution_count": null,
   "id": "0d0cf43c",
   "metadata": {},
   "outputs": [],
   "source": [
    "adata2 = adata.raw.to_adata() \n",
    "adata2.uns['log1p']['base']=None"
   ]
  },
  {
   "cell_type": "markdown",
   "id": "3bde5273",
   "metadata": {},
   "source": [
    "### Detect variable genes\n",
    "\n",
    "If variable genes are selected across all the datasets, there is th risk of obtaining batch-specific genes which will drive the rest of the analysis. \n",
    "Then, we select variable genes from each batch separately"
   ]
  },
  {
   "cell_type": "code",
   "execution_count": null,
   "id": "3cc368d9",
   "metadata": {},
   "outputs": [],
   "source": [
    "sc.pp.highly_variable_genes(adata2, batch_key = 'sample')"
   ]
  },
  {
   "cell_type": "markdown",
   "id": "fca775e7",
   "metadata": {},
   "source": [
    "Finally, we select the genes that are variable in at least 2 datasets and use them for remaining analysis."
   ]
  },
  {
   "cell_type": "code",
   "execution_count": null,
   "id": "e23161ce",
   "metadata": {},
   "outputs": [],
   "source": [
    "var_select = adata2.var.highly_variable_nbatches > 2\n",
    "var_genes = var_select.index[var_select]\n",
    "len(var_genes)"
   ]
  },
  {
   "cell_type": "markdown",
   "id": "0045834e",
   "metadata": {},
   "source": [
    "### BBKNN"
   ]
  },
  {
   "cell_type": "code",
   "execution_count": null,
   "id": "7d12ba7f",
   "metadata": {},
   "outputs": [],
   "source": [
    "adata2 = adata.raw.to_adata() \n",
    "\n",
    "\n",
    "sc.external.pp.bbknn(adata2, batch_key='sample', n_pcs=30)  # running bbknn 1.3.6\n",
    "sc.tl.umap(adata2)\n",
    "\n",
    "sc.settings.set_figure_params(dpi = 200, facecolor='white')\n",
    "sc.pl.umap(adata2, color=\"sample\", title=\"BBKNN Corrected umap\")"
   ]
  },
  {
   "cell_type": "markdown",
   "id": "4a83f4b2",
   "metadata": {},
   "source": [
    "Save the data adjusted with BBKNN"
   ]
  },
  {
   "cell_type": "code",
   "execution_count": null,
   "id": "f0dc94c5",
   "metadata": {},
   "outputs": [],
   "source": [
    "saving_file = \"C:/Users/cguiller/Documents/SERGIO_analysis/results/with108hAEL/adata_with_last_stage_adjusted_with_bbknn.h5ad\"\n",
    "adata2.write(saving_file)"
   ]
  },
  {
   "cell_type": "markdown",
   "id": "cba147ff",
   "metadata": {},
   "source": [
    "# Downstream analysis choosing BBKNN adjusted counts"
   ]
  },
  {
   "cell_type": "code",
   "execution_count": null,
   "id": "9316c0eb",
   "metadata": {},
   "outputs": [],
   "source": [
    "adjusted_adata = sc.read_h5ad(\"C:/Users/cguiller/Documents/SERGIO_analysis/results/with108hAEL/adata_with_last_stage_adjusted_with_bbknn.h5ad\")"
   ]
  },
  {
   "cell_type": "markdown",
   "id": "5d7411e8",
   "metadata": {},
   "source": [
    "### Batch aware feature selection\n",
    "We can perform batch-aware highly variable gene selection by setting the batch_key argument in the scanpy highly_variable_genes() function. scanpy will then calculate HVGs for each batch separately and combine the results by selecting those genes that are highly variable in the highest number of batches.\n",
    "(https://www.sc-best-practices.org/cellular_structure/integration.html)"
   ]
  },
  {
   "cell_type": "code",
   "execution_count": null,
   "id": "f220edc6",
   "metadata": {
    "scrolled": true
   },
   "outputs": [],
   "source": [
    "sc.pp.highly_variable_genes(adjusted_adata, n_top_genes=3000, flavor=\"cell_ranger\", batch_key='sample')\n"
   ]
  },
  {
   "cell_type": "code",
   "execution_count": null,
   "id": "2a48050e",
   "metadata": {
    "scrolled": true
   },
   "outputs": [],
   "source": [
    "##select only the high variable genes\n",
    "HVG = [i for i in adjusted_adata.var.loc[adjusted_adata.var['highly_variable'] == True].index]"
   ]
  },
  {
   "cell_type": "code",
   "execution_count": null,
   "id": "9230da2a",
   "metadata": {
    "scrolled": true
   },
   "outputs": [],
   "source": [
    "#select genes that are highly variable in every sample\n",
    "HVG_shared = [i for i in adjusted_adata.var.loc[HVG].loc[adjusted_adata.var.loc[HVG]['highly_variable_intersection'] == True].index]"
   ]
  },
  {
   "cell_type": "code",
   "execution_count": null,
   "id": "2bae062d",
   "metadata": {},
   "outputs": [],
   "source": [
    "n_batches = adjusted_adata.var[\"highly_variable_nbatches\"].value_counts()\n",
    "ax = n_batches.plot(kind=\"bar\")\n",
    "n_batches"
   ]
  },
  {
   "cell_type": "markdown",
   "id": "7603b6be",
   "metadata": {},
   "source": [
    "### Clustering\n",
    "Make a copy of the annData file, and on the copy perform the clustering by choosing several different resolution parameters. \n"
   ]
  },
  {
   "cell_type": "code",
   "execution_count": null,
   "id": "af42637b",
   "metadata": {},
   "outputs": [],
   "source": [
    "import leidenalg"
   ]
  },
  {
   "cell_type": "code",
   "execution_count": null,
   "id": "bac103f2",
   "metadata": {
    "scrolled": true
   },
   "outputs": [],
   "source": [
    "adata = adjusted_adata.copy()\n",
    "res = list(nu.arange(0.1,1.6,0.1))\n",
    "for r in res:\n",
    "    string_r = str(r)\n",
    "    sc.tl.leiden(adata, key_added=\"leiden_res%s\" %string_r, resolution=r)"
   ]
  },
  {
   "cell_type": "code",
   "execution_count": null,
   "id": "3f3a5160",
   "metadata": {
    "scrolled": true
   },
   "outputs": [],
   "source": [
    "col = []\n",
    "for i in range(0,len(res)):\n",
    "    col.append('leiden_res%s' %str(res[i]))\n",
    "\n",
    "sc.settings.set_figure_params(dpi = 200, facecolor='white')\n",
    "sc.pl.umap(\n",
    "    adata,\n",
    "    color=col,\n",
    "    legend_loc=\"on data\",\n",
    ")"
   ]
  },
  {
   "cell_type": "code",
   "execution_count": null,
   "id": "ac382cdf",
   "metadata": {},
   "outputs": [],
   "source": [
    "a = clustering_score(adjusted_adata, score_value = 'bic', min_res=0.1,max_res=2.0,step=0.1, plot=True, dim_reduction = 'pca') "
   ]
  },
  {
   "cell_type": "markdown",
   "id": "426db52b",
   "metadata": {},
   "source": [
    "### Analysing with best resolution (1.2)\n",
    "Check for the best clustering by using the BIC criterion:\n",
    "https://towardsdatascience.com/are-you-still-using-the-elbow-method-5d271b3063bd\n",
    "\n",
    "NOTE: A FUNCTION TO AUTOMATIZE THE CHOICE OF THE RESOLUTION PARAMETER HAS BEEN WRITTEN, AND IT GIVES 1.2 AS a local minumum"
   ]
  },
  {
   "cell_type": "code",
   "execution_count": null,
   "id": "b91372e6",
   "metadata": {},
   "outputs": [],
   "source": [
    "adjusted_adata = sc.read(\"C:/Users/cguiller/Documents/SERGIO_analysis/results/with108hAEL/adata_adjusted_with_bbknn_with_last_stage_after_clustering.h5ad\")\n",
    "adata = adjusted_adata.copy()"
   ]
  },
  {
   "cell_type": "code",
   "execution_count": null,
   "id": "0e12130f",
   "metadata": {
    "scrolled": true
   },
   "outputs": [],
   "source": [
    "optimum_resolution = 1.2"
   ]
  },
  {
   "cell_type": "markdown",
   "id": "fdc1655b",
   "metadata": {},
   "source": [
    "Once the optimum resolution is found, we come back to the adjusted_adata, clustering by using the optimum parameter"
   ]
  },
  {
   "cell_type": "code",
   "execution_count": null,
   "id": "8298b4e2",
   "metadata": {},
   "outputs": [],
   "source": [
    "sc.tl.leiden(adjusted_adata, key_added=\"leiden_res%s\" %optimum_resolution, resolution=optimum_resolution)"
   ]
  },
  {
   "cell_type": "markdown",
   "id": "5d6ee928",
   "metadata": {},
   "source": [
    "Visualize the clustering"
   ]
  },
  {
   "cell_type": "code",
   "execution_count": null,
   "id": "90194d56",
   "metadata": {
    "scrolled": true
   },
   "outputs": [],
   "source": [
    "sc.settings.set_figure_params(dpi = 200, facecolor='white')\n",
    "\n",
    "sc.pl.umap(\n",
    "    adjusted_adata,\n",
    "    color=[\"leiden_res%s\" %optimum_resolution],\n",
    "    size=20, \n",
    "    legend_loc=\"on data\",\n",
    ")"
   ]
  },
  {
   "cell_type": "markdown",
   "id": "07994513",
   "metadata": {},
   "source": [
    "Visualize only the cells belonging from each of the datasets separately"
   ]
  },
  {
   "cell_type": "code",
   "execution_count": null,
   "id": "515c6071",
   "metadata": {},
   "outputs": [],
   "source": [
    "d9396_indices = adjusted_adata.obs.loc[adjusted_adata.obs['sample'] == '9396h'].index\n",
    "adjusted_adata_9396h = adjusted_adata[d9396_indices]\n",
    "\n",
    "d108hAEL_indices = adjusted_adata.obs.loc[adjusted_adata.obs['sample'] == '108hAEL'].index\n",
    "adjusted_adata_108hAEL = adjusted_adata[d108hAEL_indices]\n",
    "\n",
    "dWP_indices = adjusted_adata.obs.loc[adjusted_adata.obs['sample'] == 'WP'].index\n",
    "adjusted_adata_WP = adjusted_adata[dWP_indices]\n",
    "\n",
    "d5_indices = adjusted_adata.obs.loc[adjusted_adata.obs['sample'] == '5h'].index\n",
    "adjusted_adata_5h = adjusted_adata[d5_indices]\n",
    "\n",
    "d12_indices = adjusted_adata.obs.loc[adjusted_adata.obs['sample'] == '12h'].index\n",
    "adjusted_adata_12h = adjusted_adata[d12_indices]"
   ]
  },
  {
   "cell_type": "code",
   "execution_count": null,
   "id": "458e3608",
   "metadata": {},
   "outputs": [],
   "source": [
    "sc.settings.set_figure_params(dpi = 200, facecolor='white')\n",
    "sc.pl.umap(adjusted_adata[adjusted_adata.obs[\"sample\"] == '9396h'], color=[\"leiden_res%s\" %optimum_resolution], size=20, legend_loc=\"on data\", title='9396h', show=False)"
   ]
  },
  {
   "cell_type": "markdown",
   "id": "c14d0ca7",
   "metadata": {},
   "source": [
    "Visualize only the cells belonging from each of the datasets separately"
   ]
  },
  {
   "cell_type": "code",
   "execution_count": null,
   "id": "63eefcb8",
   "metadata": {},
   "outputs": [],
   "source": [
    "sc.settings.set_figure_params(dpi = 200, facecolor='white')\n",
    "\n",
    "new_labels = [\"93h AEL\",\"108h AEL\", \"0h APF\",\"5h APF\", \"12h APF\"]\n",
    "\n",
    "fig, ax = plt.subplots()\n",
    "sc.pl.umap(\n",
    "    adjusted_adata,\n",
    "    color = \"sample\",\n",
    "    title = '',\n",
    "    show = False,\n",
    "    size = 20,\n",
    "    ax = ax,\n",
    "    palette = {\"9396h\": \"#440154FF\", \"108hAEL\": \"#414487FF\", \"WP\": \"#2A788EFF\", \"5h\": \"#22A884FF\", \"12h\": \"#7AD151FF\"},\n",
    ")\n",
    "handles, labels = ax.get_legend_handles_labels()\n",
    "order = [3,2,4,0,1]\n",
    "ax.legend([handles[idx] for idx in order], new_labels, loc='center left', bbox_to_anchor=(1, 0.5), frameon=False)\n"
   ]
  },
  {
   "cell_type": "code",
   "execution_count": null,
   "id": "1d9e1799",
   "metadata": {},
   "outputs": [],
   "source": [
    "sc.settings.set_figure_params(dpi = 200, facecolor='white')\n",
    "sc.pl.umap(\n",
    "    adjusted_adata,\n",
    "    color =\"sample\",\n",
    "    title = '93hAEL',\n",
    "    groups = '9396h',\n",
    "    size=20, \n",
    "    show=False\n",
    ")\n"
   ]
  },
  {
   "cell_type": "code",
   "execution_count": null,
   "id": "d0b7965e",
   "metadata": {},
   "outputs": [],
   "source": [
    "sc.settings.set_figure_params(dpi = 200, facecolor='white')\n",
    "sc.pl.umap(\n",
    "    adjusted_adata,\n",
    "    color = \"sample\",\n",
    "        title = '108hAEL',\n",
    "    groups = '108hAEL',\n",
    "    size=20, \n",
    "    show=False\n",
    ")"
   ]
  },
  {
   "cell_type": "code",
   "execution_count": null,
   "id": "19b1dfb0",
   "metadata": {},
   "outputs": [],
   "source": [
    "sc.settings.set_figure_params(dpi = 200, facecolor='white')\n",
    "sc.pl.umap(\n",
    "    adjusted_adata,\n",
    "    color = \"sample\",\n",
    "        title = '0hAPF',\n",
    "    groups = 'WP',\n",
    "    size=20, \n",
    "    show=False\n",
    ")"
   ]
  },
  {
   "cell_type": "code",
   "execution_count": null,
   "id": "33bd5052",
   "metadata": {},
   "outputs": [],
   "source": [
    "sc.settings.set_figure_params(dpi = 200, facecolor='white')\n",
    "sc.pl.umap(\n",
    "    adjusted_adata,\n",
    "    color = \"sample\",\n",
    "        title = '5hAPF',\n",
    "    groups = '5h',\n",
    "    size=20, \n",
    "    show=False\n",
    ")"
   ]
  },
  {
   "cell_type": "code",
   "execution_count": null,
   "id": "76b0a9b2",
   "metadata": {},
   "outputs": [],
   "source": [
    "sc.settings.set_figure_params(dpi = 200, facecolor='white')\n",
    "sc.pl.umap(\n",
    "    adjusted_adata,\n",
    "    color = \"sample\",\n",
    "        title = '12hAPF',\n",
    "    groups = '12h',\n",
    "    size=20, \n",
    "    show=False\n",
    ")"
   ]
  },
  {
   "cell_type": "markdown",
   "id": "376d5a84",
   "metadata": {},
   "source": [
    "Check the clustering by visualizing only the cells from each of the dataset separately"
   ]
  },
  {
   "cell_type": "code",
   "execution_count": null,
   "id": "7da2ba1b",
   "metadata": {},
   "outputs": [],
   "source": [
    "resulting_file = \"C:/Users/cguiller/Documents/SERGIO_analysis/results/with108hAEL/adata_adjusted_with_bbknn_with_last_stage_after_clustering.h5ad\"\n",
    "adjusted_adata.write(resulting_file)"
   ]
  },
  {
   "cell_type": "markdown",
   "id": "c48917c5",
   "metadata": {},
   "source": [
    "### Marker genes\n",
    "Find the marker genes "
   ]
  },
  {
   "cell_type": "code",
   "execution_count": null,
   "id": "ca04471e",
   "metadata": {},
   "outputs": [],
   "source": [
    "adjusted_adata = sc.read(\"C:/Users/cguiller/Documents/SERGIO_analysis/results/with108hAEL/adata_adjusted_with_bbknn_with_last_stage_after_clustering.h5ad\")\n",
    "adata = adjusted_adata.copy()\n",
    "adata.uns['log1p']['base']=None"
   ]
  },
  {
   "cell_type": "code",
   "execution_count": null,
   "id": "7c8e2e33",
   "metadata": {
    "scrolled": true
   },
   "outputs": [],
   "source": [
    "optimum_resolution=1.2\n",
    "sc.tl.rank_genes_groups(adata, \"leiden_res%s\" %optimum_resolution, method='t-test')"
   ]
  },
  {
   "cell_type": "code",
   "execution_count": null,
   "id": "8bc3f878",
   "metadata": {
    "scrolled": true
   },
   "outputs": [],
   "source": [
    "sc.settings.set_figure_params(dpi = 200, facecolor='white')\n",
    "sc.pl.rank_genes_groups(adata, n_genes=25, sharey=False)"
   ]
  },
  {
   "cell_type": "code",
   "execution_count": null,
   "id": "f66f5f8e",
   "metadata": {},
   "outputs": [],
   "source": [
    "##choose the number top marker genes that you want to visualize\n",
    "n_genes = 20"
   ]
  },
  {
   "cell_type": "code",
   "execution_count": null,
   "id": "7a0ad35f",
   "metadata": {},
   "outputs": [],
   "source": [
    "pd.DataFrame(adata.uns['rank_genes_groups']['names'])[0:n_genes]"
   ]
  },
  {
   "cell_type": "code",
   "execution_count": null,
   "id": "e6249dbf",
   "metadata": {},
   "outputs": [],
   "source": [
    "filename = \"C:/Users/cguiller/Documents/SERGIO_analysis/results/with108hAEL/marker_genes_t_test_resolution_%s.tsv\" %optimum_resolution\n",
    "pd.DataFrame(adata.uns['rank_genes_groups']['names']).to_csv(filename, sep = '\\t', index = None)"
   ]
  },
  {
   "cell_type": "code",
   "execution_count": null,
   "id": "29e899c1",
   "metadata": {},
   "outputs": [],
   "source": [
    "resulting_file = \"C:/Users/cguiller/Documents/SERGIO_analysis/results/with108hAEL/adata_with_last_stage_adjusted_with_bbknn_after_clustering_and_with_marker_genes.h5ad\"\n",
    "adata.write(resulting_file)"
   ]
  },
  {
   "cell_type": "markdown",
   "id": "8d1b5389",
   "metadata": {},
   "source": [
    "### In the following part, I want to visualize the markers of the clusters but obtaining them only the cells of the same temporal stage."
   ]
  },
  {
   "cell_type": "markdown",
   "id": "4d1bdea6",
   "metadata": {},
   "source": [
    "#### Timestep 9396h"
   ]
  },
  {
   "cell_type": "code",
   "execution_count": null,
   "id": "96fc85d7",
   "metadata": {},
   "outputs": [],
   "source": [
    "dict_ncells = dict({})\n",
    "for i in nu.unique(adjusted_adata_9396h.obs['leiden_res1.2']):\n",
    "    dict_ncells.update({\"cluster_\"+i: adjusted_adata_9396h[adjusted_adata_9396h.obs['leiden_res1.2'] == i].n_obs})\n",
    "print(dict_ncells)\n"
   ]
  },
  {
   "cell_type": "code",
   "execution_count": null,
   "id": "c09f2c05",
   "metadata": {
    "scrolled": true
   },
   "outputs": [],
   "source": [
    "adata2 = adjusted_adata_9396h\n",
    "adata2.uns['log1p']['base']=None\n",
    "sc.tl.rank_genes_groups(adjusted_adata_9396h, \"leiden_res%s\" %optimum_resolution, method='t-test')"
   ]
  },
  {
   "cell_type": "code",
   "execution_count": null,
   "id": "02e83fa2",
   "metadata": {},
   "outputs": [],
   "source": [
    "sc.settings.set_figure_params(dpi = 200, facecolor='white')\n",
    "sc.pl.rank_genes_groups(adjusted_adata_9396h, n_genes=25, sharey=False)"
   ]
  },
  {
   "cell_type": "markdown",
   "id": "64e2ed08",
   "metadata": {},
   "source": [
    "Visualize and save the marker genes"
   ]
  },
  {
   "cell_type": "code",
   "execution_count": null,
   "id": "1e17b337",
   "metadata": {},
   "outputs": [],
   "source": [
    "##choose the number top marker genes that you want to visualize\n",
    "n_genes = 20"
   ]
  },
  {
   "cell_type": "code",
   "execution_count": null,
   "id": "8fb902b3",
   "metadata": {
    "scrolled": true
   },
   "outputs": [],
   "source": [
    "pd.DataFrame(adjusted_adata_9396h.uns['rank_genes_groups']['names'])[0:n_genes]"
   ]
  },
  {
   "cell_type": "code",
   "execution_count": null,
   "id": "d19e900b",
   "metadata": {},
   "outputs": [],
   "source": [
    "filename = \"C:/Users/cguiller/Documents/SERGIO_analysis/results/with108hAEL/marker_genes_t_test_resolution_%s_only_9396h.tsv\" %optimum_resolution\n",
    "pd.DataFrame(adjusted_adata_9396h.uns['rank_genes_groups']['names']).to_csv(filename, sep = '\\t', index = None)"
   ]
  },
  {
   "cell_type": "markdown",
   "id": "53cc631b",
   "metadata": {},
   "source": [
    "#### Timestep 108hAEL"
   ]
  },
  {
   "cell_type": "code",
   "execution_count": null,
   "id": "8af33763",
   "metadata": {},
   "outputs": [],
   "source": [
    "dict_ncells = dict({})\n",
    "for i in nu.unique(adjusted_adata_108hAEL.obs['leiden_res1.2']):\n",
    "    dict_ncells.update({\"cluster_\"+i: adjusted_adata_108hAEL[adjusted_adata_108hAEL.obs['leiden_res1.2'] == i].n_obs})\n",
    "print(dict_ncells)"
   ]
  },
  {
   "cell_type": "code",
   "execution_count": null,
   "id": "b4353339",
   "metadata": {},
   "outputs": [],
   "source": [
    "#exclude the clusters  because they only have one cell in this time step\n",
    "adjusted_adata_108hAEL = adjusted_adata_108hAEL[adjusted_adata_108hAEL.obs['leiden_res1.2'] != '10']\n"
   ]
  },
  {
   "cell_type": "code",
   "execution_count": null,
   "id": "34061b7a",
   "metadata": {},
   "outputs": [],
   "source": [
    "adata2 = adjusted_adata_108hAEL\n",
    "adata2.uns['log1p']['base']=None\n",
    "sc.tl.rank_genes_groups(adjusted_adata_108hAEL, \"leiden_res%s\" %optimum_resolution, method='t-test')\n"
   ]
  },
  {
   "cell_type": "code",
   "execution_count": null,
   "id": "2d32b5ed",
   "metadata": {},
   "outputs": [],
   "source": [
    "sc.settings.set_figure_params(dpi = 200, facecolor='white')\n",
    "sc.pl.rank_genes_groups(adjusted_adata_108hAEL, n_genes=25, sharey=False)"
   ]
  },
  {
   "cell_type": "code",
   "execution_count": null,
   "id": "abfa2f67",
   "metadata": {},
   "outputs": [],
   "source": [
    "##choose the number top marker genes that you want to visualize\n",
    "n_genes = 20"
   ]
  },
  {
   "cell_type": "code",
   "execution_count": null,
   "id": "09c74364",
   "metadata": {},
   "outputs": [],
   "source": [
    "pd.DataFrame(adjusted_adata_108hAEL.uns['rank_genes_groups']['names'])[0:n_genes]"
   ]
  },
  {
   "cell_type": "code",
   "execution_count": null,
   "id": "d695d1eb",
   "metadata": {},
   "outputs": [],
   "source": [
    "filename = \"C:/Users/cguiller/Documents/SERGIO_analysis/results/with108hAEL/marker_genes_t_test_resolution_%s_only_108hAEL.tsv\" %optimum_resolution\n",
    "pd.DataFrame(adjusted_adata_108hAEL.uns['rank_genes_groups']['names']).to_csv(filename, sep = '\\t', index = None)"
   ]
  },
  {
   "cell_type": "markdown",
   "id": "a00f104c",
   "metadata": {},
   "source": [
    "#### Timestep WP"
   ]
  },
  {
   "cell_type": "code",
   "execution_count": null,
   "id": "146070ec",
   "metadata": {},
   "outputs": [],
   "source": [
    "dict_ncells = dict({})\n",
    "for i in nu.unique(adjusted_adata_WP.obs['leiden_res1.2']):\n",
    "    dict_ncells.update({\"cluster_\"+i: adjusted_adata_WP[adjusted_adata_WP.obs['leiden_res1.2'] == i].n_obs})\n",
    "print(dict_ncells)"
   ]
  },
  {
   "cell_type": "code",
   "execution_count": null,
   "id": "4d65381d",
   "metadata": {},
   "outputs": [],
   "source": [
    "adata2 = adjusted_adata_WP\n",
    "adata2.uns['log1p']['base']=None\n",
    "sc.tl.rank_genes_groups(adjusted_adata_WP, \"leiden_res%s\" %optimum_resolution, method='t-test')"
   ]
  },
  {
   "cell_type": "code",
   "execution_count": null,
   "id": "5407a3cb",
   "metadata": {
    "scrolled": true
   },
   "outputs": [],
   "source": [
    "sc.settings.set_figure_params(dpi = 200, facecolor='white')\n",
    "sc.pl.rank_genes_groups(adjusted_adata_WP, n_genes=25, sharey=False)"
   ]
  },
  {
   "cell_type": "code",
   "execution_count": null,
   "id": "0c5c56fb",
   "metadata": {},
   "outputs": [],
   "source": [
    "pd.DataFrame(adjusted_adata_WP.uns['rank_genes_groups']['names'])[0:n_genes]"
   ]
  },
  {
   "cell_type": "code",
   "execution_count": null,
   "id": "03d59cea",
   "metadata": {},
   "outputs": [],
   "source": [
    "filename = \"C:/Users/cguiller/Documents/SERGIO_analysis/results/with108hAEL/marker_genes_t_test_resolution_%s_only_WP.tsv\" %optimum_resolution\n",
    "pd.DataFrame(adjusted_adata_WP.uns['rank_genes_groups']['names']).to_csv(filename, sep = '\\t', index = None)"
   ]
  },
  {
   "cell_type": "markdown",
   "id": "e8ceec24",
   "metadata": {},
   "source": [
    "#### Timestep 5h"
   ]
  },
  {
   "cell_type": "code",
   "execution_count": null,
   "id": "e8015f12",
   "metadata": {},
   "outputs": [],
   "source": [
    "dict_ncells = dict({})\n",
    "for i in nu.unique(adjusted_adata_5h.obs['leiden_res1.2']):\n",
    "    dict_ncells.update({\"cluster_\"+i: adjusted_adata_5h[adjusted_adata_5h.obs['leiden_res1.2'] == i].n_obs})\n",
    "print(dict_ncells)"
   ]
  },
  {
   "cell_type": "code",
   "execution_count": null,
   "id": "1a6f30ad",
   "metadata": {
    "scrolled": true
   },
   "outputs": [],
   "source": [
    "adata2 = adjusted_adata_5h\n",
    "adata2.uns['log1p']['base']=None\n",
    "sc.tl.rank_genes_groups(adjusted_adata_5h, \"leiden_res%s\" %optimum_resolution, method='t-test')"
   ]
  },
  {
   "cell_type": "code",
   "execution_count": null,
   "id": "b3fb432e",
   "metadata": {
    "scrolled": true
   },
   "outputs": [],
   "source": [
    "sc.settings.set_figure_params(dpi = 200, facecolor='white')\n",
    "sc.pl.rank_genes_groups(adjusted_adata_5h, n_genes=25, sharey=False)"
   ]
  },
  {
   "cell_type": "code",
   "execution_count": null,
   "id": "ae3d5a1f",
   "metadata": {},
   "outputs": [],
   "source": [
    "pd.DataFrame(adjusted_adata_5h.uns['rank_genes_groups']['names'])[0:n_genes]"
   ]
  },
  {
   "cell_type": "code",
   "execution_count": null,
   "id": "58857b44",
   "metadata": {},
   "outputs": [],
   "source": [
    "filename = \"C:/Users/cguiller/Documents/SERGIO_analysis/results/with108hAEL/marker_genes_t_test_resolution_%s_only_5h.tsv\" %optimum_resolution\n",
    "pd.DataFrame(adjusted_adata_5h.uns['rank_genes_groups']['names']).to_csv(filename, sep = '\\t', index = None)"
   ]
  },
  {
   "cell_type": "markdown",
   "id": "bd273937",
   "metadata": {},
   "source": [
    "#### Timestep 12h APF"
   ]
  },
  {
   "cell_type": "code",
   "execution_count": null,
   "id": "795ac401",
   "metadata": {},
   "outputs": [],
   "source": [
    "dict_ncells = dict({})\n",
    "for i in nu.unique(adjusted_adata_12h.obs['leiden_res1.2']):\n",
    "    dict_ncells.update({\"cluster_\"+i: adjusted_adata_12h[adjusted_adata_12h.obs['leiden_res1.2'] == i].n_obs})\n",
    "print(dict_ncells)\n"
   ]
  },
  {
   "cell_type": "code",
   "execution_count": null,
   "id": "101e5bc7",
   "metadata": {},
   "outputs": [],
   "source": [
    "adata2 = adjusted_adata_12h\n",
    "adata2.uns['log1p']['base']=None\n",
    "sc.tl.rank_genes_groups(adjusted_adata_12h, \"leiden_res%s\" %optimum_resolution, method='t-test')"
   ]
  },
  {
   "cell_type": "code",
   "execution_count": null,
   "id": "a17fe680",
   "metadata": {},
   "outputs": [],
   "source": [
    "sc.settings.set_figure_params(dpi = 200, facecolor='white')\n",
    "sc.pl.rank_genes_groups(adjusted_adata_12h, n_genes=25, sharey=False)\n"
   ]
  },
  {
   "cell_type": "code",
   "execution_count": null,
   "id": "04a60ab1",
   "metadata": {},
   "outputs": [],
   "source": [
    "pd.DataFrame(adjusted_adata_12h.uns['rank_genes_groups']['names'])[0:n_genes]"
   ]
  },
  {
   "cell_type": "code",
   "execution_count": null,
   "id": "0feccb89",
   "metadata": {},
   "outputs": [],
   "source": [
    "filename = \"C:/Users/cguiller/Documents/SERGIO_analysis/results/with108hAEL/marker_genes_t_test_resolution_%s_only_12h.tsv\" %optimum_resolution\n",
    "pd.DataFrame(adjusted_adata_12h.uns['rank_genes_groups']['names']).to_csv(filename, sep = '\\t', index = None)"
   ]
  },
  {
   "cell_type": "markdown",
   "id": "ca1e4726",
   "metadata": {},
   "source": [
    "## Checking genes expression"
   ]
  },
  {
   "cell_type": "code",
   "execution_count": null,
   "id": "f8e6fc15",
   "metadata": {},
   "outputs": [],
   "source": [
    "sc.settings.set_figure_params(dpi = 200, facecolor='white')\n",
    "sc.pl.umap(adjusted_adata, color='sv', legend_loc=\"on data\", title='sv expression', show=False,size=20)"
   ]
  },
  {
   "cell_type": "code",
   "execution_count": null,
   "id": "405d7822",
   "metadata": {
    "scrolled": false
   },
   "outputs": [],
   "source": [
    "sc.settings.set_figure_params(dpi = 200, facecolor='white')\n",
    "fig, axs = plt.subplots(2,3, figsize=(15,8),constrained_layout=True)\n",
    "sc.pl.umap(adjusted_adata[adjusted_adata.obs[\"sample\"] == '9396h'], color='tnc', legend_loc=\"on data\", title='tnc gene in 9396h', ax=axs[0,0], show=False)\n",
    "sc.pl.umap(adjusted_adata[adjusted_adata.obs[\"sample\"] == '108hAEL'], color='tnc', legend_loc=\"on data\", title='tnc gene in 108hAEL', ax=axs[0,1], show=False)\n",
    "sc.pl.umap(adjusted_adata[adjusted_adata.obs[\"sample\"] == 'WP'], color='tnc', legend_loc=\"on data\", title='tnc gene in WP', ax=axs[0,2], show=False)\n",
    "sc.pl.umap(adjusted_adata[adjusted_adata.obs[\"sample\"] == '5h'], color='tnc', legend_loc=\"on data\", title='tnc gene in 5h', ax=axs[1,0], show=False)\n",
    "sc.pl.umap(adjusted_adata[adjusted_adata.obs[\"sample\"] == '12h'], color='tnc', legend_loc=\"on data\", title='tnc gene in 12h', ax=axs[1,1], show=False)"
   ]
  },
  {
   "cell_type": "markdown",
   "id": "3f0d37d1",
   "metadata": {},
   "source": [
    "### Lineage tracing with PAGA"
   ]
  },
  {
   "cell_type": "code",
   "execution_count": null,
   "id": "99524e52",
   "metadata": {},
   "outputs": [],
   "source": [
    "adjusted_adata = sc.read_h5ad(\"C:/Users/cguiller/Documents/SERGIO_analysis/results/with108hAEL/adata_with_last_stage_adjusted_with_bbknn_after_clustering_and_with_marker_genes.h5ad\")\n",
    "optimum_resolution = 1.2"
   ]
  },
  {
   "cell_type": "code",
   "execution_count": null,
   "id": "8f816ed4",
   "metadata": {},
   "outputs": [],
   "source": [
    "adata = adjusted_adata"
   ]
  },
  {
   "cell_type": "code",
   "execution_count": null,
   "id": "d42367fd",
   "metadata": {},
   "outputs": [],
   "source": [
    "adata.obs"
   ]
  },
  {
   "cell_type": "code",
   "execution_count": null,
   "id": "20058cd6",
   "metadata": {},
   "outputs": [],
   "source": [
    "sc.tl.paga(adata, groups='leiden_res%s' %optimum_resolution)\n",
    "sc.pl.paga(adata, color=['leiden_res%s' %optimum_resolution])"
   ]
  },
  {
   "cell_type": "code",
   "execution_count": null,
   "id": "6d76e2a1",
   "metadata": {},
   "outputs": [],
   "source": [
    "sc.tl.draw_graph(adata, init_pos='paga', layout=\"drl\")\n",
    "sc.pl.draw_graph(adata, color=['leiden_res%s' %optimum_resolution], legend_loc='on data')"
   ]
  },
  {
   "cell_type": "code",
   "execution_count": null,
   "id": "a1720580",
   "metadata": {},
   "outputs": [],
   "source": [
    "\n",
    "sc.tl.draw_graph(adata, init_pos='paga', layout=\"drl\")\n",
    "sc.pl.draw_graph(adata, color=['sample'], legend_loc='on data')\n"
   ]
  },
  {
   "cell_type": "code",
   "execution_count": null,
   "id": "b99032d7",
   "metadata": {},
   "outputs": [],
   "source": [
    "palette={\"9396h\": \"#440154FF\", \"108hAEL\": \"#414487FF\", \"WP\": \"#2A788EFF\", \"5h\": \"#22A884FF\", \"12h\": \"#7AD151FF\"}"
   ]
  },
  {
   "cell_type": "markdown",
   "id": "11802271",
   "metadata": {},
   "source": [
    "In the following line, you choose a cluster that is supposed to choose a root: you suppose to follow the cell lineage starting from this cluster"
   ]
  },
  {
   "cell_type": "code",
   "execution_count": null,
   "id": "75994a63",
   "metadata": {},
   "outputs": [],
   "source": [
    "nu.flatnonzero(adata.obs['leiden_res%s' %optimum_resolution]=='11')[1]"
   ]
  },
  {
   "cell_type": "code",
   "execution_count": null,
   "id": "34fdd6bf",
   "metadata": {},
   "outputs": [],
   "source": [
    "new_labels = [\"5h APF\", \"12h APF\", \"108h AEL\", \"93h AEL\",\"0h APF\"]\n",
    "sc.tl.dpt(adata)\n",
    "sc.pl.draw_graph(adata, color=['sample'], title='PAGA analysis', palette={\"9396h\": \"#440154FF\", \"108hAEL\": \"#414487FF\", \"WP\": \"#2A788EFF\", \"5h\": \"#22A884FF\", \"12h\": \"#7AD151FF\"})\n",
    "\n",
    "handles, labels = ax.get_legend_handles_labels()\n",
    "order = [3,2,4,0,1]\n",
    "ax.legend([handles[idx] for idx in order],[labels[idx] for idx in order], new_labels, loc='center left', bbox_to_anchor=(1, 0.5),frameon=False)\n"
   ]
  },
  {
   "cell_type": "code",
   "execution_count": null,
   "id": "e13da223",
   "metadata": {},
   "outputs": [],
   "source": [
    "palette={\"9396h\": \"#440154FF\", \"108hAEL\": \"#414487FF\", \"WP\": \"#2A788EFF\", \"5h\": \"#22A884FF\", \"12h\": \"#7AD151FF\" }\n",
    "adata.uns['iroot'] = nu.flatnonzero(adata.obs['leiden_res%s' %optimum_resolution]=='11')[0]\n",
    "sc.tl.dpt(adata)\n",
    "sc.pl.draw_graph(adata, color=['sample', 'dpt_pseudotime'], legend_loc='on data')\n"
   ]
  },
  {
   "cell_type": "code",
   "execution_count": null,
   "id": "788a737f",
   "metadata": {},
   "outputs": [],
   "source": [
    "resulting_file = \"C:/Users/cguiller/Documents/SERGIO_analysis/results/with108hAEL/adata_with_last_stage_adjusted_with_bbknn_after_clustering_and_paga_pseudotime.h5ad\"\n",
    "adata.write(resulting_file)"
   ]
  },
  {
   "cell_type": "code",
   "execution_count": null,
   "id": "2daf24b3",
   "metadata": {},
   "outputs": [],
   "source": [
    "adata = sc.read_h5ad(\"C:/Users/cguiller/Documents/SERGIO_analysis/results/with108hAEL/adata_with_last_stage_adjusted_with_bbknn_after_clustering_and_paga_pseudotime.h5ad\")"
   ]
  },
  {
   "cell_type": "code",
   "execution_count": null,
   "id": "3b60e72d",
   "metadata": {
    "scrolled": false
   },
   "outputs": [],
   "source": [
    "sc.pl.draw_graph(adata, color='tnc', legend_loc='on data')"
   ]
  },
  {
   "cell_type": "markdown",
   "id": "0c4ae16e",
   "metadata": {},
   "source": [
    "### PAGA on central cluster (4, 6, 11, 13, 14, 15)"
   ]
  },
  {
   "cell_type": "code",
   "execution_count": null,
   "id": "83f83961",
   "metadata": {},
   "outputs": [],
   "source": [
    "adata_central = adata[~adata.obs[\"leiden_res1.2\"].isin(['0','1','2','3','5','7','8','9','10','12','16','17','18','19','20','21'])]"
   ]
  },
  {
   "cell_type": "code",
   "execution_count": null,
   "id": "6d54eb1d",
   "metadata": {},
   "outputs": [],
   "source": [
    "sc.settings.set_figure_params(dpi = 200, facecolor='white')\n",
    "fig, ax = plt.subplots()\n",
    "sc.pl.umap(\n",
    "    adata_central,\n",
    "    color = \"sample\",\n",
    "    title = '',\n",
    "    show = False,\n",
    "    size = 20,\n",
    "    ax = ax,\n",
    "    palette = {\"9396h\": \"#440154FF\", \"108hAEL\": \"#414487FF\", \"WP\": \"#2A788EFF\", \"5h\": \"#22A884FF\", \"12h\": \"#7AD151FF\"},\n",
    ")\n",
    "handles, labels = ax.get_legend_handles_labels()\n",
    "order = [3,4,0,1,2]\n",
    "ax.legend([handles[idx] for idx in order],[labels[idx] for idx in order], loc='center left', bbox_to_anchor=(1, 0.5),frameon=False)"
   ]
  },
  {
   "cell_type": "code",
   "execution_count": null,
   "id": "2a9cb5d4",
   "metadata": {},
   "outputs": [],
   "source": [
    "optimum_resolution=1.2\n",
    "sc.tl.rank_genes_groups(adata_central, \"leiden_res%s\" %optimum_resolution, method='t-test')\n",
    "\n",
    "sc.settings.set_figure_params(dpi = 200, facecolor='white')\n",
    "sc.pl.rank_genes_groups(adata_central, n_genes=25, sharey=False)\n",
    "\n",
    "n_genes = 20\n",
    "pd.DataFrame(adata_central.uns['rank_genes_groups']['names'])[0:n_genes]"
   ]
  },
  {
   "cell_type": "code",
   "execution_count": null,
   "id": "413cb922",
   "metadata": {},
   "outputs": [],
   "source": [
    "filename = \"C:/Users/cguiller/Documents/SERGIO_analysis/results/with108hAEL/marker_genes_t_test_resolution_%s_Clusster_central_top20.tsv\" %optimum_resolution\n",
    "pd.DataFrame(adata_central.uns['rank_genes_groups']['names'])[0:n_genes].to_csv(filename, sep = '\\t', index = None)"
   ]
  },
  {
   "cell_type": "code",
   "execution_count": null,
   "id": "b500d93d",
   "metadata": {},
   "outputs": [],
   "source": [
    "sc.tl.paga(adata_central, groups='leiden_res%s' %optimum_resolution)\n",
    "sc.pl.paga(adata_central, color=['leiden_res%s' %optimum_resolution])"
   ]
  },
  {
   "cell_type": "code",
   "execution_count": null,
   "id": "dbe67c45",
   "metadata": {},
   "outputs": [],
   "source": [
    "sc.tl.draw_graph(adata_central, init_pos='paga', layout=\"drl\")\n",
    "sc.pl.draw_graph(adata_central, color=['leiden_res%s' %optimum_resolution], legend_loc='on data')"
   ]
  },
  {
   "cell_type": "code",
   "execution_count": null,
   "id": "d6a7de86",
   "metadata": {},
   "outputs": [],
   "source": [
    "sc.tl.dpt(adata_central)\n",
    "sc.pl.draw_graph(adata_central, color=['sample'], title='PAGA analysis', palette={\"9396h\": \"#440154FF\", \"108hAEL\": \"#414487FF\", \"WP\": \"#2A788EFF\", \"5h\": \"#22A884FF\", \"12h\": \"#7AD151FF\"})\n"
   ]
  },
  {
   "cell_type": "code",
   "execution_count": null,
   "id": "fcb6609b",
   "metadata": {},
   "outputs": [],
   "source": [
    "adata_central.uns['iroot'] = nu.flatnonzero(adata_central.obs['leiden_res%s' %optimum_resolution]=='11')[0]\n",
    "sc.tl.dpt(adata_central)\n",
    "sc.pl.draw_graph(adata_central, color=['leiden_res%s' %optimum_resolution, 'dpt_pseudotime'],color_map='inferno',legend_loc='on data')\n"
   ]
  }
 ],
 "metadata": {
  "kernelspec": {
   "display_name": "Python [conda env:paga]",
   "language": "python",
   "name": "conda-env-paga-py"
  },
  "language_info": {
   "codemirror_mode": {
    "name": "ipython",
    "version": 3
   },
   "file_extension": ".py",
   "mimetype": "text/x-python",
   "name": "python",
   "nbconvert_exporter": "python",
   "pygments_lexer": "ipython3",
   "version": "3.11.4"
  }
 },
 "nbformat": 4,
 "nbformat_minor": 5
}
